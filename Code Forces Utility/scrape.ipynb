{
 "cells": [
  {
   "cell_type": "code",
   "execution_count": 80,
   "metadata": {},
   "outputs": [],
   "source": [
    "# ---------------------------------------------------------------------------- #\n",
    "#                               Import Statements                              #\n",
    "# ---------------------------------------------------------------------------- #\n",
    "\n",
    "# for parsing\n",
    "from bs4 import BeautifulSoup\n",
    "import lxml\n",
    "\n",
    "# for making requests and scraping the html\n",
    "import requests\n",
    "\n",
    "# for database management\n",
    "import sqlite3\n",
    "\n",
    "# for multithreading\n",
    "import concurrent.futures\n",
    "\n",
    "# for directory paths\n",
    "import os\n",
    "\n",
    "# for arguments\n",
    "import sys\n",
    "import datetime\n",
    "\n",
    "# for writing into csv files and saving the data\n",
    "import pandas as pd\n",
    "\n",
    "# For utlitly\n",
    "import sys\n",
    "\n",
    "# For the spinners\n",
    "from Spinner.spinner import Spinner\n",
    "# from Spinner.spinnerEasy import Spinner\n",
    "\n",
    "\n",
    "# ---------------------------------------------------------------------------- #\n",
    "#                               Utility Functions                              #\n",
    "# ---------------------------------------------------------------------------- #\n",
    "\n",
    "def urlJoin(service, attach):\n",
    "    \"\"\"\n",
    "    Joins the urls\n",
    "    \"\"\"\n",
    "\n",
    "    if service[len(service)-1] == '/':\n",
    "        service = service[:len(service)-1]\n",
    "    if attach[0] == '/':\n",
    "        attach = attach[1:]\n",
    "    joined = service+'/'+attach\n",
    "    return joined\n",
    "\n",
    "\n",
    "def get_HTML(url):\n",
    "    \"\"\"\n",
    "    Utility Function that takes in the URL and returns the response's html directly if the status code is 200\n",
    "    \"\"\"\n",
    "\n",
    "    response = requests.get(url)\n",
    "\n",
    "    if response.status_code == 200:\n",
    "        html_response = response.content\n",
    "        return html_response\n",
    "\n",
    "    return \"\"\n",
    "\n",
    "\n",
    "def get_user(username):\n",
    "\n",
    "    user_url = f\"https://codeforces.com/profile/{username}\"\n",
    "    return user_url\n"
   ]
  },
  {
   "cell_type": "code",
   "execution_count": 81,
   "metadata": {},
   "outputs": [],
   "source": [
    "def get_info_img(id):\n",
    "    \n",
    "    url = get_user(id)\n",
    "    html = get_HTML(url)\n",
    "    soup = BeautifulSoup(html)\n",
    "    try :\n",
    "        userbox = soup.find('div', class_='userbox')\n",
    "        title_photo = userbox.find('div',class_='title-photo')\n",
    "        info = userbox.find('div',class_='info')\n",
    "    except:\n",
    "        title_photo=None\n",
    "        info=None\n",
    "    return [info, title_photo]"
   ]
  },
  {
   "cell_type": "code",
   "execution_count": 82,
   "metadata": {},
   "outputs": [],
   "source": [
    "def get_information_dict(info):\n",
    "    main_info = info.find('div',class_='main-info')\n",
    "    ul = info.find('ul')\n",
    "    lis = ul.findAll('li')\n",
    "    lis_text = []\n",
    "    for li in lis:\n",
    "        lis_text.append(li.text.strip())\n",
    "    lis_text=lis_text[:-2]\n",
    "    information = {\n",
    "        'rating': 0,\n",
    "        'contribution': 0,\n",
    "        'friends': 0,\n",
    "        'lastseen': '',\n",
    "        'registered': ''\n",
    "    }\n",
    "    for li in lis_text:\n",
    "        temp = li.split(':')\n",
    "        temp[0] = temp[0].strip()\n",
    "        temp[1] = temp[1].strip()\n",
    "        if temp[0]=='Contest rating':\n",
    "            temp[0]='rating'\n",
    "            temp[1]=int(temp[1][:4])\n",
    "        if temp[0] =='Contribution':\n",
    "            temp[0]='contribution'\n",
    "            temp[1]=int(temp[1])\n",
    "        if temp[0]=='Friend of':\n",
    "            temp[0]='friends'\n",
    "            temp[1]=int(temp[1].split(' ')[0])\n",
    "        if temp[0]=='Last visit':\n",
    "            temp[0]='lastseen'\n",
    "        if temp[0]=='Registered':\n",
    "            temp[0]='registered'\n",
    "\n",
    "        information[temp[0]] = temp[1]\n",
    "    return information\n"
   ]
  },
  {
   "cell_type": "code",
   "execution_count": 83,
   "metadata": {},
   "outputs": [],
   "source": [
    "def get_img_bytes(title_photo):\n",
    "    \n",
    "    profile_pic = requests.get('https:'+title_photo.find('img')[\"src\"]).content\n",
    "    return profile_pic"
   ]
  },
  {
   "cell_type": "code",
   "execution_count": 84,
   "metadata": {},
   "outputs": [],
   "source": [
    "[info, title_photo] = get_info_img('just_me_007')"
   ]
  },
  {
   "cell_type": "code",
   "execution_count": 87,
   "metadata": {},
   "outputs": [],
   "source": [
    "img_bytes = get_img_bytes(title_photo)\n",
    "with open('pp.jpg','wb') as fp:\n",
    "    fp.write(img_bytes)"
   ]
  },
  {
   "cell_type": "code",
   "execution_count": 90,
   "metadata": {
    "tags": []
   },
   "outputs": [
    {
     "output_type": "stream",
     "name": "stdout",
     "text": "{'contribution': 0,\n 'friends': 129,\n 'lastseen': 'online now',\n 'rating': 1449,\n 'registered': '2 months ago'}\n"
    }
   ],
   "source": [
    "from pprint import pprint\n",
    "\n",
    "information = get_information_dict(info)\n",
    "pprint(information)"
   ]
  },
  {
   "cell_type": "code",
   "execution_count": null,
   "metadata": {},
   "outputs": [],
   "source": []
  }
 ],
 "metadata": {
  "language_info": {
   "codemirror_mode": {
    "name": "ipython",
    "version": 3
   },
   "file_extension": ".py",
   "mimetype": "text/x-python",
   "name": "python",
   "nbconvert_exporter": "python",
   "pygments_lexer": "ipython3",
   "version": "3.8.3-final"
  },
  "orig_nbformat": 2,
  "kernelspec": {
   "name": "python38364bit86d426b85ff34453a235d03441105ccb",
   "display_name": "Python 3.8.3 64-bit"
  }
 },
 "nbformat": 4,
 "nbformat_minor": 2
}